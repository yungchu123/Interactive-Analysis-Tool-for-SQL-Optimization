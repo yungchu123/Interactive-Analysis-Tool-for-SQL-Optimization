{
 "cells": [
  {
   "cell_type": "code",
   "execution_count": 14,
   "metadata": {},
   "outputs": [
    {
     "name": "stdout",
     "output_type": "stream",
     "text": [
      "[\"It does a <b>sequential scan</b> on relation <b>lineitem</b> and filtered with the condition (l_extendedprice > '100'::numeric).\", 'It hashes all rows based on the following key(s): <b>l_returnflag</b>, <b>l_linestatus</b>, which are then <b>aggregated</b> into bucket given by the hashed key.', \"The result is <b>sorted</b> using the attribute <b>['l_returnflag', 'l_linestatus']</b>.\", 'The <b>Gather Merge</b> is performed.', 'The rows are sorted based on their keys. They are <b>aggregated</b> by the following keys: <b>l_returnflag</b>,<b>l_linestatus</b>.']\n",
      "1071398.4000000001\n"
     ]
    },
    {
     "data": {
      "text/plain": [
       "<Figure size 640x480 with 0 Axes>"
      ]
     },
     "metadata": {},
     "output_type": "display_data"
    }
   ],
   "source": [
    "import os\n",
    "#from functools import wraps\n",
    "from typing import Any, Callable, List, Optional\n",
    "import psycopg2\n",
    "from queryPlan import QueryPlan\n",
    "\n",
    "class Explore: \n",
    "    def __init__(self):\n",
    "        self.conn = psycopg2.connect(\n",
    "            database=\"TPC-H\",\n",
    "            user=\"postgres\",\n",
    "            password=\"postgres123\",\n",
    "            host=\"localhost\",\n",
    "            port=\"5432\"\n",
    "        )\n",
    "        self.cursor = self.conn.cursor()\n",
    "\n",
    "    def explain(self, query) -> QueryPlan:\n",
    "        self.cursor.execute(f\"EXPLAIN (FORMAT JSON) {query}\")\n",
    "        plan = self.cursor.fetchall()\n",
    "        query_plan_dict: dict = plan[0][0][0][\"Plan\"]\n",
    "        return QueryPlan(query_plan_dict, query)\n",
    "\n",
    "    \n",
    "    def close_connection(self):\n",
    "        # Close the cursor and connection\n",
    "        self.cursor.close()\n",
    "        self.conn.close()\n",
    "    \n",
    "if __name__ == '__main__':\n",
    "    exploration = Explore()\n",
    "    input_query =  \"\"\"\n",
    "    select \n",
    "      l_returnflag,\n",
    "      l_linestatus,\n",
    "      sum(l_quantity) as sum_qty,\n",
    "      sum(l_extendedprice) as sum_base_price,\n",
    "      sum(l_extendedprice * (1 - l_discount)) as sum_disc_price,\n",
    "      sum(l_extendedprice * (1 - l_discount) * (1 + l_tax)) as sum_charge,\n",
    "      avg(l_quantity) as avg_qty,\n",
    "      avg(l_extendedprice) as avg_price,\n",
    "      avg(l_discount) as avg_disc,\n",
    "      count(*) as count_order\n",
    "    from\n",
    "      lineitem\n",
    "    where\n",
    "      l_extendedprice > 100\n",
    "    group by\n",
    "      l_returnflag,\n",
    "      l_linestatus\n",
    "    order by\n",
    "      l_returnflag,\n",
    "      l_linestatus;\n",
    "\"\"\"\n",
    "    query_plan_instance = exploration.explain(input_query)\n",
    "    query_plan_instance.save_graph_file()\n",
    "    exploration.close_connection()\n",
    "    explanation = query_plan_instance.create_explanation(query_plan_instance.root)\n",
    "    totalCost = query_plan_instance.calculate_total_cost()\n",
    "    print(explanation)\n",
    "    print(totalCost)"
   ]
  },
  {
   "cell_type": "code",
   "execution_count": null,
   "metadata": {},
   "outputs": [],
   "source": []
  }
 ],
 "metadata": {
  "kernelspec": {
   "display_name": "Python 3",
   "language": "python",
   "name": "python3"
  },
  "language_info": {
   "codemirror_mode": {
    "name": "ipython",
    "version": 3
   },
   "file_extension": ".py",
   "mimetype": "text/x-python",
   "name": "python",
   "nbconvert_exporter": "python",
   "pygments_lexer": "ipython3",
   "version": "3.11.6"
  }
 },
 "nbformat": 4,
 "nbformat_minor": 2
}
